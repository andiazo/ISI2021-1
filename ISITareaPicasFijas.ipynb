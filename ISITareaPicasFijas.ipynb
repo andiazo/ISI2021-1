{
  "nbformat": 4,
  "nbformat_minor": 0,
  "metadata": {
    "colab": {
      "name": "ISITarea00-v2.ipynb",
      "provenance": [],
      "collapsed_sections": []
    },
    "kernelspec": {
      "name": "python3",
      "display_name": "Python 3"
    }
  },
  "cells": [
    {
      "cell_type": "code",
      "metadata": {
        "colab": {
          "base_uri": "https://localhost:8080/"
        },
        "id": "aHB6wBIMpDAT",
        "outputId": "ac369f2a-786f-441c-d3ab-563f533abdc3"
      },
      "source": [
        "# [1]source: https://vixra.org/pdf/1601.0302v1.pdf\r\n",
        "# Para la realización del código usamos como referencia el paper [1]\r\n",
        "# Este paper ofrece una estrategia para la resolución del juego\r\n",
        "\r\n",
        "from itertools import permutations\r\n",
        "\r\n",
        "def respondToNum(num, guess):\r\n",
        "    fixeds = 0; spikes = 0;\r\n",
        "    #loop to count number of bulls and cows\r\n",
        "    for i in guess:\r\n",
        "        if i in num:\r\n",
        "            if (guess.index(i) == num.index(i)):\r\n",
        "                fixeds += 1\r\n",
        "            else:\r\n",
        "                spikes += 1\r\n",
        "    return [fixeds,spikes]\r\n",
        "\r\n",
        "digits = '0123456789'\r\n",
        "perms = list(permutations(digits, 4))\r\n",
        "guesses = []\r\n",
        "hits  = []\r\n",
        "\r\n",
        "while True:\r\n",
        "    guess = perms[0]\r\n",
        "    guesses.append(guess)\r\n",
        "    print(\"El numero es: \", str(guess), \"?\")\r\n",
        "    fi = int(input(\"Fijas: \"))\r\n",
        "    sp = int(input(\"Picas: \"))\r\n",
        "    hit = [fi,sp]\r\n",
        "    hits.append(hit)\r\n",
        "    if (hit == [4, 0]):\r\n",
        "        print (\"ENCONTRADO\")\r\n",
        "        print(\"El numero es: \", str(guess))\r\n",
        "        break\r\n",
        "\r\n",
        "    perms2 = []\r\n",
        "    for p in perms:\r\n",
        "      if (respondToNum(p,guess) == hit):\r\n",
        "        perms2.append(p)\r\n",
        "    perms = perms2\r\n",
        "\r\n",
        "    if not perms:\r\n",
        "        print (\"Hay algo mal en las respuestas:\")\r\n",
        "        break\r\n"
      ],
      "execution_count": 2,
      "outputs": [
        {
          "output_type": "stream",
          "text": [
            "El numero es:  ('0', '1', '2', '3') ?\n",
            "Fijas: 0\n",
            "Picas: 2\n",
            "El numero es:  ('1', '0', '4', '5') ?\n",
            "Fijas: 0\n",
            "Picas: 0\n",
            "El numero es:  ('2', '3', '6', '7') ?\n",
            "Fijas: 2\n",
            "Picas: 0\n",
            "El numero es:  ('2', '3', '8', '9') ?\n",
            "Fijas: 2\n",
            "Picas: 2\n",
            "El numero es:  ('2', '3', '9', '8') ?\n",
            "Fijas: 4\n",
            "Picas: 0\n",
            "ENCONTRADO\n",
            "El numero es:  ('2', '3', '9', '8')\n"
          ],
          "name": "stdout"
        }
      ]
    }
  ]
}
